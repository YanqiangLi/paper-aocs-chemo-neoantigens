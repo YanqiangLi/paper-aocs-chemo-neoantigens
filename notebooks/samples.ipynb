{
 "cells": [
  {
   "cell_type": "code",
   "execution_count": null,
   "metadata": {
    "collapsed": true
   },
   "outputs": [],
   "source": []
  },
  {
   "cell_type": "code",
   "execution_count": null,
   "metadata": {
    "collapsed": false
   },
   "outputs": [],
   "source": [
    "import pandas, seaborn, scipy, numpy, matplotlib, collections, itertools, math, functools, sys, sklearn"
   ]
  },
  {
   "cell_type": "code",
   "execution_count": 39,
   "metadata": {
    "collapsed": false
   },
   "outputs": [],
   "source": [
    "ega_filenames = pandas.read_table(\"../data/ega_contents.aspera.tsv\", header=None)[0]\n",
    "\n",
    "def lookup_filename(substring):\n",
    "    results = ega_filenames[ega_filenames.str.contains(substring)]\n",
    "    if len(results) == 0:\n",
    "        print(\"NOT_FOUND:%s\" % substring)\n",
    "        return \"NOT_FOUND:%s\" % substring\n",
    "    if len(results) > 1:\n",
    "        print(\"MULTIPLE_FOUND:%s\" % substring)\n",
    "        return \"MULTIPLE_FOUND:%s\" % substring\n",
    "    return list(results)[0]\n"
   ]
  },
  {
   "cell_type": "code",
   "execution_count": 58,
   "metadata": {
    "collapsed": false
   },
   "outputs": [
    {
     "name": "stdout",
     "output_type": "stream",
     "text": [
      "looking for dna\n",
      "looking for rna\n",
      "NOT_FOUND:140414_EXTERN_0192_C42UFACXX.nopd.AOCS_057_EXTERNAOCS20140414001\n",
      "NOT_FOUND:140414_EXTERN_0192_C42UFACXX.nopd.AOCS_117_EXTERNAOCS20140414002\n",
      "NOT_FOUND:131206_EXTERN_0046_BC2GHAACXX.nopd.AOCS_139_ICGCDBDE20131122037\n",
      "NOT_FOUND:131206_EXTERN_0046_BC2GHAACXX.nopd.AOCS_139_ICGCDBDE20131122039\n",
      "NOT_FOUND:131206_EXTERN_0046_BC2GHAACXX.nopd.AOCS_139_ICGCDBDE20131122041\n",
      "NOT_FOUND:140414_EXTERN_0192_C42UFACXX.nopd.AOCS_141_EXTERNAOCS20140414003\n",
      "NOT_FOUND:140414_EXTERN_0192_C42UFACXX.nopd.AOCS_150_EXTERNAOCS20140414004\n",
      "NOT_FOUND:140414_EXTERN_0192_C42UFACXX.nopd.AOCS_157_EXTERNAOCS20140414005\n",
      "NOT_FOUND:140414_EXTERN_0192_C42UFACXX.nopd.AOCS_158_EXTERNAOCS20140414006\n",
      "NOT_FOUND:140414_EXTERN_0192_C42UFACXX.nopd.AOCS_160_EXTERNAOCS20140414007\n",
      "NOT_FOUND:140227_EXTERN_0128_AC2V5YACXX.nopd.AOCS_167_EXTERNAOCS20140227009\n",
      "NOT_FOUND:140227_EXTERN_0128_AC2V5YACXX.nopd.AOCS_167_EXTERNAOCS20140227011\n",
      "NOT_FOUND:140414_EXTERN_0192_C42UFACXX.nopd.AOCS_168_EXTERNAOCS20140414008\n",
      "NOT_FOUND:140414_EXTERN_0192_C42UFACXX.nopd.AOCS_169_EXTERNAOCS20140414009\n"
     ]
    }
   ],
   "source": [
    "samples = pandas.read_table(\"../data/sample.tsv\")\n",
    "specimens = pandas.read_table(\"../data/specimen.tsv\")\n",
    "ids = pandas.read_csv(\"../data/ICGC_IDs_19Oct2015_External_modified.csv\")\n",
    "\n",
    "sources = pandas.merge(ids, samples, left_on='DNA_biospecimen', right_on=\"submitted_sample_id\", how='inner')\n",
    "sources = pandas.merge(sources, specimens, on=\"icgc_specimen_id\", how='inner').copy()\n",
    "\n",
    "\n",
    "assert all(sources.submitted_donor_id_x == sources.submitted_donor_id_y)\n",
    "assert all(sources.icgc_donor_id_x == sources.icgc_donor_id_y)\n",
    "\n",
    "sources[\"cohort\"] = \"AOCS\"\n",
    "sources[\"donor\"] = sources.submitted_donor_id_x\n",
    "sources[\"tissue_type\"] = sources.SpecimenType.map({\"Tumour\": \"solid\", \"Ascites\": \"ascites\"})\n",
    "sources[\"timepoint\"] = sources.CollectionPoint.map(\n",
    "    {\"Primary\": \"primary\", \"Recurrence\": \"recurrence\", \"Autopsy\": \"recurrence\"})\n",
    "\n",
    "sources[\"source_id\"] = sources.DNA_biospecimen\n",
    "sources.index = sources.source_id\n",
    "\n",
    "sources[\"treated\"] = sources.specimen_donor_treatment_type == \"other therapy\"\n",
    "sources[\"metastasis\"] = sources.specimen_type_description.str.contains(\"metastasis\")\n",
    "sources[\"interval_days\"] = sources.specimen_interval\n",
    "\n",
    "print('looking for dna')\n",
    "sources[\"bam_path_tumor_dna\"] = [lookup_filename(row.DNA_sample_string) for (i,row) in sources.iterrows()]\n",
    "\n",
    "print(\"looking for rna\")\n",
    "sources[\"bam_path_tumor_rna\"] = [lookup_filename(row[\"RNA data file\"]) for (i,row) in sources.iterrows()]\n",
    "\n",
    "sources.loc[\"AOCS-170-1-8\", \"treated\"] = False  # weird incorrect data point based on email from Elizabeth Christie\n",
    "\n",
    "\n",
    "assert sources[\"source_id\"].nunique() == 114\n",
    "assert len(sources[\"source_id\"]) == 114\n",
    "\n",
    "simple_sources = sources[\n",
    "    \"source_id,donor,cohort,treated,timepoint,metastasis,tissue_type,interval_days,bam_path_tumor_dna,bam_path_tumor_rna\".split(\",\")\n",
    "]\n",
    "\n",
    "sources.to_csv(\"../data/sources.full.csv\", index=False)\n",
    "simple_sources.to_csv(\"../data/sources.simple.csv\", index=False)\n"
   ]
  },
  {
   "cell_type": "code",
   "execution_count": 50,
   "metadata": {
    "collapsed": false
   },
   "outputs": [
    {
     "data": {
      "text/html": [
       "<div>\n",
       "<table border=\"1\" class=\"dataframe\">\n",
       "  <thead>\n",
       "    <tr style=\"text-align: right;\">\n",
       "      <th></th>\n",
       "      <th>source_id</th>\n",
       "      <th>donor</th>\n",
       "      <th>cohort</th>\n",
       "      <th>treated</th>\n",
       "      <th>timepoint</th>\n",
       "      <th>metastasis</th>\n",
       "      <th>tissue_type</th>\n",
       "      <th>interval_days</th>\n",
       "      <th>bam_path_tumor_dna</th>\n",
       "      <th>bam_path_tumor_rna</th>\n",
       "    </tr>\n",
       "    <tr>\n",
       "      <th>source_id</th>\n",
       "      <th></th>\n",
       "      <th></th>\n",
       "      <th></th>\n",
       "      <th></th>\n",
       "      <th></th>\n",
       "      <th></th>\n",
       "      <th></th>\n",
       "      <th></th>\n",
       "      <th></th>\n",
       "      <th></th>\n",
       "    </tr>\n",
       "  </thead>\n",
       "  <tbody>\n",
       "    <tr>\n",
       "      <th>AOCS-169-1-0</th>\n",
       "      <td>AOCS-169-1-0</td>\n",
       "      <td>AOCS-169</td>\n",
       "      <td>AOCS</td>\n",
       "      <td>True</td>\n",
       "      <td>primary</td>\n",
       "      <td>False</td>\n",
       "      <td>solid</td>\n",
       "      <td>108</td>\n",
       "      <td>EGAZ00001018818_2014_ICGC_IcgcOvarian_AOCS169_...</td>\n",
       "      <td>NOT_FOUND:140414_EXTERN_0192_C42UFACXX.nopd.AO...</td>\n",
       "    </tr>\n",
       "    <tr>\n",
       "      <th>AOCS-170-1-8</th>\n",
       "      <td>AOCS-170-1-8</td>\n",
       "      <td>AOCS-170</td>\n",
       "      <td>AOCS</td>\n",
       "      <td>False</td>\n",
       "      <td>primary</td>\n",
       "      <td>False</td>\n",
       "      <td>solid</td>\n",
       "      <td>61</td>\n",
       "      <td>EGAZ00001018689_2014_ICGC_IcgcOvarian_AOCS170_...</td>\n",
       "      <td>EGAZ00001018763_2014_ICGC_140227_EXTERN_0129_B...</td>\n",
       "    </tr>\n",
       "    <tr>\n",
       "      <th>AOCS-170-3-5</th>\n",
       "      <td>AOCS-170-3-5</td>\n",
       "      <td>AOCS-170</td>\n",
       "      <td>AOCS</td>\n",
       "      <td>False</td>\n",
       "      <td>primary</td>\n",
       "      <td>False</td>\n",
       "      <td>ascites</td>\n",
       "      <td>0</td>\n",
       "      <td>EGAZ00001018606_2014_ICGC_IcgcOvarian_AOCS170_...</td>\n",
       "      <td>EGAZ00001018531_2014_ICGC_140227_EXTERN_0129_B...</td>\n",
       "    </tr>\n",
       "    <tr>\n",
       "      <th>AOCS-171-1-0</th>\n",
       "      <td>AOCS-171-1-0</td>\n",
       "      <td>AOCS-171</td>\n",
       "      <td>AOCS</td>\n",
       "      <td>False</td>\n",
       "      <td>primary</td>\n",
       "      <td>False</td>\n",
       "      <td>solid</td>\n",
       "      <td>0</td>\n",
       "      <td>EGAZ00001018682_2014_ICGC_IcgcOvarian_AOCS171_...</td>\n",
       "      <td>EGAZ00001018642_2014_ICGC_140227_EXTERN_0128_A...</td>\n",
       "    </tr>\n",
       "    <tr>\n",
       "      <th>AOCS-171-3-8</th>\n",
       "      <td>AOCS-171-3-8</td>\n",
       "      <td>AOCS-171</td>\n",
       "      <td>AOCS</td>\n",
       "      <td>False</td>\n",
       "      <td>primary</td>\n",
       "      <td>False</td>\n",
       "      <td>ascites</td>\n",
       "      <td>-23</td>\n",
       "      <td>EGAZ00001018724_2014_ICGC_IcgcOvarian_AOCS171_...</td>\n",
       "      <td>EGAZ00001018785_2014_ICGC_140227_EXTERN_0128_A...</td>\n",
       "    </tr>\n",
       "  </tbody>\n",
       "</table>\n",
       "</div>"
      ],
      "text/plain": [
       "                 source_id     donor cohort treated timepoint metastasis  \\\n",
       "source_id                                                                  \n",
       "AOCS-169-1-0  AOCS-169-1-0  AOCS-169   AOCS    True   primary      False   \n",
       "AOCS-170-1-8  AOCS-170-1-8  AOCS-170   AOCS   False   primary      False   \n",
       "AOCS-170-3-5  AOCS-170-3-5  AOCS-170   AOCS   False   primary      False   \n",
       "AOCS-171-1-0  AOCS-171-1-0  AOCS-171   AOCS   False   primary      False   \n",
       "AOCS-171-3-8  AOCS-171-3-8  AOCS-171   AOCS   False   primary      False   \n",
       "\n",
       "             tissue_type  interval_days  \\\n",
       "source_id                                 \n",
       "AOCS-169-1-0       solid            108   \n",
       "AOCS-170-1-8       solid             61   \n",
       "AOCS-170-3-5     ascites              0   \n",
       "AOCS-171-1-0       solid              0   \n",
       "AOCS-171-3-8     ascites            -23   \n",
       "\n",
       "                                             bam_path_tumor_dna  \\\n",
       "source_id                                                         \n",
       "AOCS-169-1-0  EGAZ00001018818_2014_ICGC_IcgcOvarian_AOCS169_...   \n",
       "AOCS-170-1-8  EGAZ00001018689_2014_ICGC_IcgcOvarian_AOCS170_...   \n",
       "AOCS-170-3-5  EGAZ00001018606_2014_ICGC_IcgcOvarian_AOCS170_...   \n",
       "AOCS-171-1-0  EGAZ00001018682_2014_ICGC_IcgcOvarian_AOCS171_...   \n",
       "AOCS-171-3-8  EGAZ00001018724_2014_ICGC_IcgcOvarian_AOCS171_...   \n",
       "\n",
       "                                             bam_path_tumor_rna  \n",
       "source_id                                                        \n",
       "AOCS-169-1-0  NOT_FOUND:140414_EXTERN_0192_C42UFACXX.nopd.AO...  \n",
       "AOCS-170-1-8  EGAZ00001018763_2014_ICGC_140227_EXTERN_0129_B...  \n",
       "AOCS-170-3-5  EGAZ00001018531_2014_ICGC_140227_EXTERN_0129_B...  \n",
       "AOCS-171-1-0  EGAZ00001018642_2014_ICGC_140227_EXTERN_0128_A...  \n",
       "AOCS-171-3-8  EGAZ00001018785_2014_ICGC_140227_EXTERN_0128_A...  "
      ]
     },
     "execution_count": 50,
     "metadata": {},
     "output_type": "execute_result"
    }
   ],
   "source": [
    "simple_sources.tail()"
   ]
  },
  {
   "cell_type": "code",
   "execution_count": 47,
   "metadata": {
    "collapsed": false
   },
   "outputs": [
    {
     "data": {
      "text/plain": [
       "False    79\n",
       "True     37\n",
       "Name: treated, dtype: int64"
      ]
     },
     "execution_count": 47,
     "metadata": {},
     "output_type": "execute_result"
    }
   ],
   "source": [
    "original_sources = pandas.read_csv(\"../data/sources.aocs_only.csv\")\n",
    "original_sources\n",
    "original_sources.treated.value_counts()"
   ]
  },
  {
   "cell_type": "code",
   "execution_count": 52,
   "metadata": {
    "collapsed": false
   },
   "outputs": [
    {
     "data": {
      "text/plain": [
       "92"
      ]
     },
     "execution_count": 52,
     "metadata": {},
     "output_type": "execute_result"
    }
   ],
   "source": [
    "original_sources.donor.nunique()\n",
    "simple_sources.donor.nunique()"
   ]
  },
  {
   "cell_type": "code",
   "execution_count": 54,
   "metadata": {
    "collapsed": false
   },
   "outputs": [
    {
     "data": {
      "text/plain": [
       "((116, 10), (114, 10))"
      ]
     },
     "execution_count": 54,
     "metadata": {},
     "output_type": "execute_result"
    }
   ],
   "source": [
    "original_sources.shape, simple_sources.shape"
   ]
  },
  {
   "cell_type": "code",
   "execution_count": 55,
   "metadata": {
    "collapsed": false
   },
   "outputs": [
    {
     "data": {
      "text/plain": [
       "(False    79\n",
       " True     35\n",
       " Name: treated, dtype: int64, False    79\n",
       " True     37\n",
       " Name: treated, dtype: int64)"
      ]
     },
     "execution_count": 55,
     "metadata": {},
     "output_type": "execute_result"
    }
   ],
   "source": [
    "simple_sources.treated.value_counts(), original_sources.treated.value_counts()"
   ]
  },
  {
   "cell_type": "code",
   "execution_count": 56,
   "metadata": {
    "collapsed": false
   },
   "outputs": [
    {
     "data": {
      "text/plain": [
       "(False    109\n",
       " True       5\n",
       " Name: metastasis, dtype: int64, False    113\n",
       " True       3\n",
       " Name: metastasis, dtype: int64)"
      ]
     },
     "execution_count": 56,
     "metadata": {},
     "output_type": "execute_result"
    }
   ],
   "source": [
    "simple_sources.metastasis.value_counts(), original_sources.metastasis.value_counts()"
   ]
  }
 ],
 "metadata": {
  "kernelspec": {
   "display_name": "Python [py3k]",
   "language": "python",
   "name": "Python [py3k]"
  },
  "language_info": {
   "codemirror_mode": {
    "name": "ipython",
    "version": 3
   },
   "file_extension": ".py",
   "mimetype": "text/x-python",
   "name": "python",
   "nbconvert_exporter": "python",
   "pygments_lexer": "ipython3",
   "version": "3.5.2"
  }
 },
 "nbformat": 4,
 "nbformat_minor": 0
}
