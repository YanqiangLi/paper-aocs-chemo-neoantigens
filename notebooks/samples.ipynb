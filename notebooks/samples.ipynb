{
 "cells": [
  {
   "cell_type": "code",
   "execution_count": 2,
   "metadata": {
    "collapsed": false
   },
   "outputs": [
    {
     "name": "stderr",
     "output_type": "stream",
     "text": [
      "/Users/tim/miniconda3/envs/py3k/lib/python3.5/site-packages/matplotlib/__init__.py:872: UserWarning: axes.color_cycle is deprecated and replaced with axes.prop_cycle; please use the latter.\n",
      "  warnings.warn(self.msg_depr % (key, alt_key))\n"
     ]
    }
   ],
   "source": [
    "import pandas, seaborn, scipy, numpy, matplotlib, collections, itertools, math, functools, sys, sklearn"
   ]
  },
  {
   "cell_type": "code",
   "execution_count": 3,
   "metadata": {
    "collapsed": false
   },
   "outputs": [],
   "source": [
    "ega_filenames = pandas.read_table(\"../data/ega_contents.aspera.tsv\", header=None)[0]\n",
    "\n",
    "def lookup_filename(substring):\n",
    "    results = ega_filenames[ega_filenames.str.contains(substring)]\n",
    "    if len(results) == 0:\n",
    "        print(\"NOT_FOUND:%s\" % substring)\n",
    "        return \"NOT_FOUND:%s\" % substring\n",
    "    if len(results) > 1:\n",
    "        print(\"MULTIPLE_FOUND:%s\" % substring)\n",
    "        return \"MULTIPLE_FOUND:%s\" % substring\n",
    "    return list(results)[0]\n"
   ]
  },
  {
   "cell_type": "code",
   "execution_count": 5,
   "metadata": {
    "collapsed": false
   },
   "outputs": [
    {
     "data": {
      "text/plain": [
       "0      EGAZ00001018524_2014_ICGC_IcgcOvarian_AOCS137_...\n",
       "1      EGAZ00001018525_2014_ICGC_IcgcOvarian_AOCS091_...\n",
       "2      EGAZ00001018526_2014_ICGC_IcgcOvarian_AOCS057_...\n",
       "3      EGAZ00001018527_2014_ICGC_130906_D81P8DQ1_0153...\n",
       "4      EGAZ00001018528_2014_ICGC_130906_D81P8DQ1_0153...\n",
       "5      EGAZ00001018529_2014_ICGC_140227_EXTERN_0128_A...\n",
       "6      EGAZ00001018530_2014_ICGC_131206_EXTERN_0045_A...\n",
       "7      EGAZ00001018531_2014_ICGC_140227_EXTERN_0129_B...\n",
       "8      EGAZ00001018532_2014_ICGC_IcgcOvarian_AOCS160_...\n",
       "9      EGAZ00001018533_2014_ICGC_IcgcOvarian_AOCS122_...\n",
       "10     EGAZ00001018534_2014_ICGC_130906_D81P8DQ1_0157...\n",
       "11     EGAZ00001018535_2014_ICGC_IcgcOvarian_AOCS077_...\n",
       "12     EGAZ00001018536_2014_ICGC_140227_EXTERN_0128_A...\n",
       "13     EGAZ00001018537_2014_ICGC_IcgcOvarian_AOCS064_...\n",
       "14     EGAZ00001018538_2014_ICGC_IcgcOvarian_AOCS117_...\n",
       "15     EGAZ00001018539_2014_ICGC_IcgcOvarian_AOCS093_...\n",
       "16     EGAZ00001018540_2014_ICGC_IcgcOvarian_AOCS088_...\n",
       "17     EGAZ00001018541_2014_ICGC_IcgcOvarian_AOCS115_...\n",
       "18     EGAZ00001018542_2014_ICGC_131206_EXTERN_0045_A...\n",
       "19     EGAZ00001018543_2014_ICGC_131206_EXTERN_0044_A...\n",
       "20     EGAZ00001018544_2014_ICGC_IcgcOvarian_AOCS116_...\n",
       "21     EGAZ00001018545_2014_ICGC_IcgcOvarian_AOCS135_...\n",
       "22     EGAZ00001018546_2014_ICGC_140227_EXTERN_0128_A...\n",
       "23     EGAZ00001018547_2014_ICGC_IcgcOvarian_AOCS093_...\n",
       "24     EGAZ00001018548_2014_ICGC_131206_EXTERN_0043_A...\n",
       "25     EGAZ00001018549_2014_ICGC_IcgcOvarian_AOCS093_...\n",
       "26     EGAZ00001018550_2014_ICGC_IcgcOvarian_AOCS058_...\n",
       "27     EGAZ00001018551_2014_ICGC_IcgcOvarian_AOCS001_...\n",
       "28     EGAZ00001018552_2014_ICGC_131206_EXTERN_0045_A...\n",
       "29     EGAZ00001018553_2014_ICGC_IcgcOvarian_AOCS090_...\n",
       "                             ...                        \n",
       "280    EGAZ00001018804_2014_ICGC_131206_EXTERN_0044_A...\n",
       "281    EGAZ00001018805_2014_ICGC_IcgcOvarian_AOCS060_...\n",
       "282    EGAZ00001018806_2014_ICGC_IcgcOvarian_AOCS063_...\n",
       "283    EGAZ00001018807_2014_ICGC_IcgcOvarian_AOCS125_...\n",
       "284    EGAZ00001018808_2014_ICGC_130906_D81P8DQ1_0153...\n",
       "285    EGAZ00001018809_2014_ICGC_130906_D81P8DQ1_0157...\n",
       "286    EGAZ00001018810_2014_ICGC_IcgcOvarian_AOCS137_...\n",
       "287    EGAZ00001018811_2014_ICGC_IcgcOvarian_AOCS095_...\n",
       "288    EGAZ00001018812_2014_ICGC_IcgcOvarian_AOCS058_...\n",
       "289    EGAZ00001018813_2014_ICGC_IcgcOvarian_AOCS112_...\n",
       "290    EGAZ00001018814_2014_ICGC_131206_EXTERN_0043_A...\n",
       "291    EGAZ00001018815_2014_ICGC_IcgcOvarian_AOCS056_...\n",
       "292    EGAZ00001018816_2014_ICGC_IcgcOvarian_AOCS159_...\n",
       "293    EGAZ00001018817_2014_ICGC_IcgcOvarian_AOCS092_...\n",
       "294    EGAZ00001018818_2014_ICGC_IcgcOvarian_AOCS169_...\n",
       "295    EGAZ00001018819_2014_ICGC_130906_D81P8DQ1_0158...\n",
       "296    EGAZ00001018820_2014_ICGC_131206_EXTERN_0045_A...\n",
       "297    EGAZ00001018821_2014_ICGC_130906_D81P8DQ1_0157...\n",
       "298    EGAZ00001018822_2014_ICGC_IcgcOvarian_AOCS130_...\n",
       "299    EGAZ00001018823_2014_ICGC_IcgcOvarian_AOCS056_...\n",
       "300    EGAZ00001018824_2014_ICGC_131206_EXTERN_0045_A...\n",
       "301    EGAZ00001018825_2014_ICGC_IcgcOvarian_AOCS117_...\n",
       "302    EGAZ00001018826_2014_ICGC_IcgcOvarian_AOCS131_...\n",
       "303    EGAZ00001018827_2014_ICGC_IcgcOvarian_AOCS114_...\n",
       "304    EGAZ00001018828_2014_ICGC_IcgcOvarian_AOCS149_...\n",
       "305    EGAZ00001018829_2014_ICGC_IcgcOvarian_AOCS005_...\n",
       "306    EGAZ00001018830_2014_ICGC_131206_EXTERN_0044_A...\n",
       "307    EGAZ00001018831_2014_ICGC_IcgcOvarian_AOCS171_...\n",
       "308    EGAZ00001018832_2014_ICGC_131206_EXTERN_0043_A...\n",
       "309    EGAZ00001018833_2014_ICGC_IcgcOvarian_AOCS086_...\n",
       "Name: 0, dtype: object"
      ]
     },
     "execution_count": 5,
     "metadata": {},
     "output_type": "execute_result"
    }
   ],
   "source": [
    "ega_filenames"
   ]
  },
  {
   "cell_type": "code",
   "execution_count": null,
   "metadata": {
    "collapsed": false
   },
   "outputs": [],
   "source": [
    "samples = pandas.read_table(\"../data/sample.tsv\")\n",
    "specimens = pandas.read_table(\"../data/specimen.tsv\")\n",
    "ids = pandas.read_csv(\"../data/ICGC_IDs_19Oct2015_External_modified.csv\")\n",
    "\n",
    "sources = pandas.merge(ids, samples, left_on='DNA_biospecimen', right_on=\"submitted_sample_id\", how='inner')\n",
    "sources = pandas.merge(sources, specimens, on=\"icgc_specimen_id\", how='inner').copy()\n",
    "\n",
    "\n",
    "assert all(sources.submitted_donor_id_x == sources.submitted_donor_id_y)\n",
    "assert all(sources.icgc_donor_id_x == sources.icgc_donor_id_y)\n",
    "\n",
    "sources[\"cohort\"] = \"AOCS\"\n",
    "sources[\"donor\"] = sources.submitted_donor_id_x\n",
    "sources[\"tissue_type\"] = sources.SpecimenType.map({\"Tumour\": \"solid\", \"Ascites\": \"ascites\"})\n",
    "sources[\"timepoint\"] = sources.CollectionPoint.map(\n",
    "    {\"Primary\": \"primary\", \"Recurrence\": \"recurrence\", \"Autopsy\": \"recurrence\"})\n",
    "\n",
    "sources[\"source_id\"] = sources.DNA_biospecimen\n",
    "sources.index = sources.source_id\n",
    "\n",
    "sources[\"treated\"] = sources.specimen_donor_treatment_type == \"other therapy\"\n",
    "sources[\"metastasis\"] = sources.specimen_type_description.str.contains(\"metastasis\")\n",
    "sources[\"interval_days\"] = sources.specimen_interval\n",
    "\n",
    "print('looking for dna')\n",
    "sources[\"bam_path_tumor_dna\"] = [lookup_filename(row.DNA_sample_string) for (i,row) in sources.iterrows()]\n",
    "\n",
    "print(\"looking for rna\")\n",
    "sources[\"bam_path_tumor_rna\"] = [lookup_filename(row[\"RNA data file\"]) for (i,row) in sources.iterrows()]\n",
    "\n",
    "sources.loc[\"AOCS-170-1-8\", \"treated\"] = False  # weird incorrect data point based on email from Elizabeth Christie\n",
    "\n",
    "\n",
    "assert sources[\"source_id\"].nunique() == 114\n",
    "assert len(sources[\"source_id\"]) == 114\n",
    "\n",
    "simple_sources = sources[\n",
    "    \"source_id,donor,cohort,treated,timepoint,metastasis,tissue_type,interval_days,bam_path_tumor_dna,bam_path_tumor_rna\".split(\",\")\n",
    "]\n",
    "\n",
    "sources.to_csv(\"../data/sources.full.csv\", index=False)\n",
    "simple_sources.to_csv(\"../data/sources.simple.csv\", index=False)\n"
   ]
  },
  {
   "cell_type": "code",
   "execution_count": null,
   "metadata": {
    "collapsed": false
   },
   "outputs": [],
   "source": [
    "simple_sources.tail()"
   ]
  },
  {
   "cell_type": "code",
   "execution_count": null,
   "metadata": {
    "collapsed": false
   },
   "outputs": [],
   "source": [
    "original_sources = pandas.read_csv(\"../data/sources.aocs_only.csv\")\n",
    "original_sources\n",
    "original_sources.treated.value_counts()"
   ]
  },
  {
   "cell_type": "code",
   "execution_count": null,
   "metadata": {
    "collapsed": false
   },
   "outputs": [],
   "source": [
    "original_sources.donor.nunique()\n",
    "simple_sources.donor.nunique()"
   ]
  },
  {
   "cell_type": "code",
   "execution_count": null,
   "metadata": {
    "collapsed": false
   },
   "outputs": [],
   "source": [
    "original_sources.shape, simple_sources.shape"
   ]
  },
  {
   "cell_type": "code",
   "execution_count": null,
   "metadata": {
    "collapsed": false
   },
   "outputs": [],
   "source": [
    "simple_sources.treated.value_counts(), original_sources.treated.value_counts()"
   ]
  },
  {
   "cell_type": "code",
   "execution_count": null,
   "metadata": {
    "collapsed": false
   },
   "outputs": [],
   "source": [
    "simple_sources.metastasis.value_counts(), original_sources.metastasis.value_counts()"
   ]
  }
 ],
 "metadata": {
  "kernelspec": {
   "display_name": "Python [py3k]",
   "language": "python",
   "name": "Python [py3k]"
  }
 },
 "nbformat": 4,
 "nbformat_minor": 0
}
