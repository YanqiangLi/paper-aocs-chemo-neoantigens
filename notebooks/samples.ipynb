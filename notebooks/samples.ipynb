{
 "cells": [
  {
   "cell_type": "code",
   "execution_count": 1,
   "metadata": {
    "collapsed": false
   },
   "outputs": [
    {
     "name": "stderr",
     "output_type": "stream",
     "text": [
      "/Users/tim/miniconda3/envs/py3k/lib/python3.5/site-packages/matplotlib/__init__.py:872: UserWarning: axes.color_cycle is deprecated and replaced with axes.prop_cycle; please use the latter.\n",
      "  warnings.warn(self.msg_depr % (key, alt_key))\n"
     ]
    }
   ],
   "source": [
    "import pandas, seaborn, scipy, numpy, matplotlib, collections, itertools, math, functools, sys, sklearn, os"
   ]
  },
  {
   "cell_type": "code",
   "execution_count": 2,
   "metadata": {
    "collapsed": false
   },
   "outputs": [],
   "source": [
    "ega_filenames = pandas.read_table(\"../data/ega_contents.aspera.tsv\", header=None)[0]\n",
    "ega_filenames = pandas.Series([x.replace(\".aes\", \"\") for x in ega_filenames])\n",
    "\n",
    "downloaded_file_paths = pandas.read_table(\"../data/downloaded_file_paths.txt\", header=None)[0]\n",
    "\n",
    "ISSUE_EGA_FILENAMES = set()\n",
    "def lookup_filename(substring):\n",
    "    results = downloaded_file_paths[downloaded_file_paths.str.contains(substring)]\n",
    "    ega_results = set(ega_filenames[ega_filenames.str.contains(substring)])\n",
    "    \n",
    "    if len(results) > 1:\n",
    "        results = [x for x in results if next(iter(ega_results)) in x]\n",
    "\n",
    "    if len(results) == 0:\n",
    "        print(\"NOT_FOUND: %s, EGA results: %s\" % (substring, ega_results))\n",
    "        ISSUE_EGA_FILENAMES.update(ega_results)\n",
    "        return \"NOT_FOUND:%s\" % substring\n",
    "    if len(results) > 1:\n",
    "        print(\"MULTIPLE_FOUND: %s %s, EGA results: %s\" % (substring, sorted(results), ega_results))\n",
    "        #ISSUE_EGA_FILENAMES.update(ega_results)\n",
    "        return \"MULTIPLE_FOUND:%s\" % substring\n",
    "    return list(results)[0]\n"
   ]
  },
  {
   "cell_type": "code",
   "execution_count": 3,
   "metadata": {
    "collapsed": false
   },
   "outputs": [
    {
     "name": "stdout",
     "output_type": "stream",
     "text": [
      "looking for dna\n",
      "looking for rna\n"
     ]
    }
   ],
   "source": [
    "samples = pandas.read_table(\"../data/sample.tsv\")\n",
    "specimens = pandas.read_table(\"../data/specimen.tsv\")\n",
    "ids = pandas.read_csv(\"../data/ICGC_IDs_19Oct2015_External_modified.csv\")\n",
    "\n",
    "sources = pandas.merge(ids, samples, left_on='DNA_biospecimen', right_on=\"submitted_sample_id\", how='inner')\n",
    "sources = pandas.merge(sources, specimens, on=\"icgc_specimen_id\", how='inner').copy()\n",
    "\n",
    "\n",
    "assert all(sources.submitted_donor_id_x == sources.submitted_donor_id_y)\n",
    "assert all(sources.icgc_donor_id_x == sources.icgc_donor_id_y)\n",
    "\n",
    "sources[\"cohort\"] = \"AOCS\"\n",
    "sources[\"donor\"] = sources.submitted_donor_id_x\n",
    "sources[\"tissue_type\"] = sources.SpecimenType.map({\"Tumour\": \"solid\", \"Ascites\": \"ascites\"})\n",
    "sources[\"timepoint\"] = sources.CollectionPoint.map(\n",
    "    {\"Primary\": \"primary\", \"Recurrence\": \"recurrence\", \"Autopsy\": \"recurrence\"})\n",
    "\n",
    "sources[\"source_id\"] = sources.DNA_biospecimen\n",
    "sources.index = sources.source_id\n",
    "\n",
    "sources[\"treated\"] = sources.specimen_donor_treatment_type == \"other therapy\"\n",
    "sources[\"metastasis\"] = sources.specimen_type_description.str.contains(\"metastasis\")\n",
    "sources[\"interval_days\"] = sources.specimen_interval\n",
    "\n",
    "print('looking for dna')\n",
    "sources[\"bam_path_tumor_dna\"] = [lookup_filename(row.DNA_sample_string) for (i,row) in sources.iterrows()]\n",
    "\n",
    "print(\"looking for rna\")\n",
    "sources[\"bam_path_tumor_rna\"] = [lookup_filename(row[\"RNA data file\"]) for (i,row) in sources.iterrows()]\n",
    "\n",
    "sources.loc[\"AOCS-170-1-8\", \"treated\"] = False  # weird incorrect data point based on email from Elizabeth Christie\n",
    "\n",
    "assert sources[\"source_id\"].nunique() == 114\n",
    "assert len(sources[\"source_id\"]) == 114\n",
    "\n",
    "simple_sources = sources[\n",
    "    \"source_id,donor,cohort,treated,timepoint,metastasis,tissue_type,interval_days,bam_path_tumor_dna,bam_path_tumor_rna\".split(\",\")\n",
    "]\n",
    "\n",
    "sources.to_csv(\"../data/sources.full.csv\", index=False)\n",
    "simple_sources.to_csv(\"../data/sources.simple.csv\", index=False)\n"
   ]
  }
 ],
 "metadata": {
  "kernelspec": {
   "display_name": "Python [py3k]",
   "language": "python",
   "name": "Python [py3k]"
  },
  "language_info": {
   "codemirror_mode": {
    "name": "ipython",
    "version": 3
   },
   "file_extension": ".py",
   "mimetype": "text/x-python",
   "name": "python",
   "nbconvert_exporter": "python",
   "pygments_lexer": "ipython3",
   "version": "3.5.2"
  }
 },
 "nbformat": 4,
 "nbformat_minor": 0
}
