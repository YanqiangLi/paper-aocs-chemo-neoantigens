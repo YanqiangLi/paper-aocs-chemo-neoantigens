{
 "cells": [
  {
   "cell_type": "code",
   "execution_count": 1,
   "metadata": {
    "collapsed": false
   },
   "outputs": [
    {
     "name": "stderr",
     "output_type": "stream",
     "text": [
      "/Users/tim/miniconda3/envs/py3k/lib/python3.5/site-packages/matplotlib/__init__.py:872: UserWarning: axes.color_cycle is deprecated and replaced with axes.prop_cycle; please use the latter.\n",
      "  warnings.warn(self.msg_depr % (key, alt_key))\n"
     ]
    }
   ],
   "source": [
    "import pandas, seaborn, scipy, numpy, matplotlib, collections, itertools, math, functools, sys, sklearn, os"
   ]
  },
  {
   "cell_type": "markdown",
   "metadata": {},
   "source": [
    "# Sources (samples)"
   ]
  },
  {
   "cell_type": "code",
   "execution_count": 2,
   "metadata": {
    "collapsed": false
   },
   "outputs": [],
   "source": [
    "ega_filenames = pandas.read_table(\"../data/external/ega_contents.aspera.tsv\", header=None)[0]\n",
    "ega_filenames = pandas.Series([x.replace(\".aes\", \"\") for x in ega_filenames])\n",
    "\n",
    "downloaded_file_paths = pandas.read_table(\"../data/external/downloaded_file_paths.txt\", header=None)[0]\n",
    "\n",
    "ISSUE_EGA_FILENAMES = set()\n",
    "def lookup_filename(substring):\n",
    "    results = downloaded_file_paths[downloaded_file_paths.str.contains(substring)]\n",
    "    ega_results = set(ega_filenames[ega_filenames.str.contains(substring)])\n",
    "    \n",
    "    if len(results) > 1:\n",
    "        results = [x for x in results if next(iter(ega_results)) in x]\n",
    "\n",
    "    if len(results) == 0:\n",
    "        print(\"NOT_FOUND: %s, EGA results: %s\" % (substring, ega_results))\n",
    "        ISSUE_EGA_FILENAMES.update(ega_results)\n",
    "        return \"NOT_FOUND:%s\" % substring\n",
    "    if len(results) > 1:\n",
    "        print(\"MULTIPLE_FOUND: %s %s, EGA results: %s\" % (substring, sorted(results), ega_results))\n",
    "        #ISSUE_EGA_FILENAMES.update(ega_results)\n",
    "        return \"MULTIPLE_FOUND:%s\" % substring\n",
    "    return list(results)[0]\n"
   ]
  },
  {
   "cell_type": "code",
   "execution_count": 3,
   "metadata": {
    "collapsed": false
   },
   "outputs": [
    {
     "name": "stdout",
     "output_type": "stream",
     "text": [
      "looking for dna\n",
      "looking for rna\n"
     ]
    }
   ],
   "source": [
    "samples = pandas.read_table(\"../data/external/sample.tsv\")\n",
    "specimens = pandas.read_table(\"../data/external/specimen.tsv\")\n",
    "ids = pandas.read_csv(\"../data/external/ICGC_IDs_19Oct2015_External_modified.csv\")\n",
    "\n",
    "sources = pandas.merge(ids, samples, left_on='DNA_biospecimen', right_on=\"submitted_sample_id\", how='inner')\n",
    "sources = pandas.merge(sources, specimens, on=\"icgc_specimen_id\", how='inner').copy()\n",
    "\n",
    "\n",
    "assert all(sources.submitted_donor_id_x == sources.submitted_donor_id_y)\n",
    "assert all(sources.icgc_donor_id_x == sources.icgc_donor_id_y)\n",
    "\n",
    "sources[\"cohort\"] = \"AOCS\"\n",
    "sources[\"donor\"] = sources.submitted_donor_id_x\n",
    "sources[\"tissue_type\"] = sources.SpecimenType.map({\"Tumour\": \"solid\", \"Ascites\": \"ascites\"})\n",
    "sources[\"timepoint\"] = sources.CollectionPoint.map(\n",
    "    {\"Primary\": \"primary\", \"Recurrence\": \"recurrence\", \"Autopsy\": \"recurrence\"})\n",
    "\n",
    "sources[\"source_id\"] = sources.DNA_biospecimen\n",
    "sources.index = sources.source_id\n",
    "\n",
    "sources[\"treated\"] = sources.specimen_donor_treatment_type == \"other therapy\"\n",
    "sources[\"metastasis\"] = sources.specimen_type_description.str.contains(\"metastasis\")\n",
    "sources[\"interval_days\"] = sources.specimen_interval\n",
    "\n",
    "print('looking for dna')\n",
    "sources[\"bam_path_tumor_dna\"] = [lookup_filename(row.DNA_sample_string) for (i,row) in sources.iterrows()]\n",
    "\n",
    "print(\"looking for rna\")\n",
    "sources[\"bam_path_tumor_rna\"] = [lookup_filename(row[\"RNA data file\"]) for (i,row) in sources.iterrows()]\n",
    "\n",
    "sources.loc[\"AOCS-170-1-8\", \"treated\"] = False  # weird incorrect data point based on email from Elizabeth Christie\n",
    "\n",
    "assert sources[\"source_id\"].nunique() == 114\n",
    "assert len(sources[\"source_id\"]) == 114\n",
    "\n",
    "simple_sources = sources[\n",
    "    \"source_id,donor,cohort,treated,timepoint,metastasis,tissue_type,interval_days,bam_path_tumor_dna,bam_path_tumor_rna\".split(\",\")\n",
    "]\n",
    "\n",
    "sources.to_csv(\"../data/derived/sources.full.csv\", index=False)\n",
    "simple_sources.to_csv(\"../data/derived/sources.simple.csv\", index=False)\n"
   ]
  },
  {
   "cell_type": "code",
   "execution_count": null,
   "metadata": {
    "collapsed": false
   },
   "outputs": [],
   "source": []
  },
  {
   "cell_type": "markdown",
   "metadata": {},
   "source": [
    "# Mutations"
   ]
  },
  {
   "cell_type": "code",
   "execution_count": 4,
   "metadata": {
    "collapsed": true
   },
   "outputs": [],
   "source": [
    "# Load Patch et al mutation calls.\n",
    "aocs_all_ssm_df = pandas.read_table(\"../data/external/ssm_open.tsv.gz\")"
   ]
  },
  {
   "cell_type": "code",
   "execution_count": 7,
   "metadata": {
    "collapsed": false
   },
   "outputs": [
    {
     "data": {
      "text/plain": [
       "115"
      ]
     },
     "execution_count": 7,
     "metadata": {},
     "output_type": "execute_result"
    }
   ],
   "source": [
    "len(aocs_all_ssm_df.submitted_sample_id.value_counts())"
   ]
  },
  {
   "cell_type": "code",
   "execution_count": 9,
   "metadata": {
    "collapsed": false
   },
   "outputs": [
    {
     "data": {
      "text/plain": [
       "single base substitution    3962366\n",
       "deletion of <=200bp            6314\n",
       "insertion of <=200bp           1122\n",
       "Name: mutation_type, dtype: int64"
      ]
     },
     "execution_count": 9,
     "metadata": {},
     "output_type": "execute_result"
    }
   ],
   "source": [
    "aocs_all_ssm_df.mutation_type.value_counts()"
   ]
  },
  {
   "cell_type": "code",
   "execution_count": 33,
   "metadata": {
    "collapsed": false
   },
   "outputs": [
    {
     "data": {
      "text/plain": [
       "(3969802, 42)"
      ]
     },
     "execution_count": 33,
     "metadata": {},
     "output_type": "execute_result"
    }
   ],
   "source": [
    "aocs_all_ssm_df.shape"
   ]
  },
  {
   "cell_type": "code",
   "execution_count": 32,
   "metadata": {
    "collapsed": false
   },
   "outputs": [
    {
     "data": {
      "text/plain": [
       "icgc_mutation_id                                                          MU3882370\n",
       "icgc_donor_id                                                               DO46503\n",
       "project_code                                                                  OV-AU\n",
       "icgc_specimen_id                                                           SP101931\n",
       "icgc_sample_id                                                             SA505545\n",
       "matched_icgc_sample_id                                                     SA505552\n",
       "submitted_sample_id                                                    AOCS-142-3-5\n",
       "submitted_matched_sample_id                                            AOCS-142-5-2\n",
       "chromosome                                                                       15\n",
       "chromosome_start                                                           90770872\n",
       "chromosome_end                                                             90770872\n",
       "chromosome_strand                                                                 1\n",
       "assembly_version                                                             GRCh37\n",
       "mutation_type                                                   deletion of <=200bp\n",
       "reference_genome_allele                                                           C\n",
       "mutated_from_allele                                                               C\n",
       "mutated_to_allele                                                                 -\n",
       "quality_score                                                                   NaN\n",
       "probability                                                                     NaN\n",
       "total_read_count                                                                 67\n",
       "mutant_allele_read_count                                                         19\n",
       "verification_status                                                      not tested\n",
       "verification_platform                                                           NaN\n",
       "biological_validation_status                                             not tested\n",
       "biological_validation_platform                                                  NaN\n",
       "consequence_type                                                 frameshift_variant\n",
       "aa_mutation                                                                    T591\n",
       "cds_mutation                                                                    NaN\n",
       "gene_affected                                                       ENSG00000185033\n",
       "transcript_affected                                                 ENST00000332496\n",
       "gene_build_version                                                               75\n",
       "platform                                                             Illumina HiSeq\n",
       "experimental_protocol             Paired End http://www.illumina.com/technology/...\n",
       "sequencing_strategy                                                             WGS\n",
       "base_calling_algorithm            RTA http://support.illumina.com/sequencing/seq...\n",
       "alignment_algorithm                             bwa http://bio-bwa.sourceforge.net/\n",
       "variation_calling_algorithm       pindel http://gmt.genome.wustl.edu/pindel/curr...\n",
       "other_analysis_algorithm                   GATK http://www.broadinstitute.org/gatk/\n",
       "seq_coverage                                                                    NaN\n",
       "raw_data_repository                                                             EGA\n",
       "raw_data_accession                                                  EGAS00001000154\n",
       "initial_data_release_date                                                       NaN\n",
       "Name: 111336, dtype: object"
      ]
     },
     "execution_count": 32,
     "metadata": {},
     "output_type": "execute_result"
    }
   ],
   "source": [
    "aocs_all_ssm_df.ix[aocs_all_ssm_df.mutation_type == \"deletion of <=200bp\"].iloc[200]"
   ]
  },
  {
   "cell_type": "code",
   "execution_count": 21,
   "metadata": {
    "collapsed": false
   },
   "outputs": [
    {
     "name": "stdout",
     "output_type": "stream",
     "text": [
      "Expanded 3288030 -> 5324182\n",
      "Multinucleotides: 53850\n",
      "(5349387, 45) (5295537, 45) (53850, 45) (3288030, 45)\n"
     ]
    }
   ],
   "source": [
    "donor_to_sources = collections.defaultdict(set)\n",
    "for (i, row) in sources.iterrows():\n",
    "    donor_to_sources[row.donor].add(row.source_id)\n",
    "\n",
    "icgc_specimen_id_to_source_id = dict((v,k) for (k,v) in sources.icgc_specimen_id.to_dict().items())\n",
    "\n",
    "mutations_df = aocs_all_ssm_df.copy()\n",
    "mutations_df[\"donor\"] = [\"-\".join(x.split(\"-\")[:2]) for x in mutations_df.submitted_sample_id]\n",
    "mutations_df[\"source_id\"] = mutations_df.icgc_specimen_id.map(icgc_specimen_id_to_source_id)\n",
    "\n",
    "# Drop Y chromosome mutations\n",
    "mutations_df = mutations_df[mutations_df.chromosome != \"Y\"].drop_duplicates()\n",
    "\n",
    "# rename columns for varlens compatability\n",
    "mutations_df[\"genome\"] = \"GRCh37\"\n",
    "mutations_df[\"contig\"] = mutations_df[\"chromosome\"]\n",
    "mutations_df[\"interbase_start\"] = mutations_df[\"chromosome_start\"] - 1\n",
    "mutations_df[\"interbase_end\"] = mutations_df[\"chromosome_end\"]\n",
    "mutations_df[\"ref\"] = mutations_df[\"mutated_from_allele\"].replace(\"-\", \"\")\n",
    "mutations_df[\"alt\"] = mutations_df[\"mutated_to_allele\"].replace(\"-\", \"\")\n",
    "del mutations_df[\"chromosome\"]\n",
    "del mutations_df[\"chromosome_start\"]\n",
    "del mutations_df[\"chromosome_end\"]\n",
    "del mutations_df[\"mutated_from_allele\"]\n",
    "del mutations_df[\"mutated_to_allele\"]\n",
    "\n",
    "# duplicate rows so each mutation that occurs in a donor is given for every source for that donor\n",
    "to_concat = []\n",
    "for (donor, sub_df) in mutations_df.groupby(\"donor\"):\n",
    "    for source_id in donor_to_sources[donor]:\n",
    "        sub_df = sub_df.copy()\n",
    "        sub_df[\"source_id\"] = source_id\n",
    "        to_concat.append(sub_df)\n",
    "expanded_mutations_df = pandas.concat(to_concat, ignore_index=True)\n",
    "print(\"Expanded %d -> %d\" % (len(mutations_df), len(expanded_mutations_df)))\n",
    "\n",
    "# connect adjacent variants into dinucleotide variants\n",
    "multinucleotide_additions = []\n",
    "multinucleotide_indices = []\n",
    "for (source, sub_df) in expanded_mutations_df.groupby(\"source_id\"):\n",
    "    #print(source, len(multinucleotide_additions))\n",
    "    site_to_row = dict(((row.contig, row.interbase_start), (i,row)) for (i,row) in sub_df.iterrows() )\n",
    "    for (i,row) in sub_df.iterrows():\n",
    "        if (row.contig, row.interbase_start + 1) in site_to_row and (row.contig, row.interbase_start - 1) not in site_to_row:\n",
    "            accumulated = []\n",
    "            while True:                \n",
    "                try:\n",
    "                    accumulated.append(site_to_row[(row.contig, row.interbase_start + len(accumulated))])\n",
    "                except KeyError:\n",
    "                    break\n",
    "            assert len(accumulated) > 1\n",
    "            multinucleotide_indices.extend(x for (x, _) in accumulated)\n",
    "            new_row = accumulated[0][1].copy()\n",
    "            new_row.interbase_end = accumulated[-1][1].interbase_end\n",
    "            new_row.ref = \"\".join([x[1].ref for x in accumulated])\n",
    "            new_row.alt = \"\".join([x[1].alt for x in accumulated])\n",
    "            multinucleotide_additions.append(new_row)\n",
    "                       \n",
    "multinucleotides_df = pandas.DataFrame(multinucleotide_additions)\n",
    "print(\"Multinucleotides: %d\" % len(multinucleotides_df))\n",
    "\n",
    "expanded_mutations_non_mnv_df = expanded_mutations_df.ix[~expanded_mutations_df.index.isin(multinucleotide_indices)]\n",
    "combined_df = pandas.concat([expanded_mutations_non_mnv_df, multinucleotides_df], ignore_index=True)\n",
    "print(combined_df.shape, expanded_mutations_non_mnv_df.shape, multinucleotides_df.shape, mutations_df.shape)\n"
   ]
  },
  {
   "cell_type": "code",
   "execution_count": 25,
   "metadata": {
    "collapsed": true
   },
   "outputs": [],
   "source": [
    "columns = \"source_id,donor,genome,contig,interbase_start,interbase_end,ref,alt\".split(\",\")\n"
   ]
  },
  {
   "cell_type": "code",
   "execution_count": 35,
   "metadata": {
    "collapsed": false
   },
   "outputs": [],
   "source": [
    "#final = combined_df.ix[combined_df.ref.str.len() != combined_df.alt.str.len()][columns].drop_duplicates()\n",
    "final = combined_df[columns].drop_duplicates()"
   ]
  },
  {
   "cell_type": "code",
   "execution_count": 14,
   "metadata": {
    "collapsed": false
   },
   "outputs": [],
   "source": [
    "combined_df[columns].drop_duplicates().to_csv(\"../data/derived/raw_mutations.csv\", index=False)\n",
    "!rm -f ../data/derived/raw_mutations.csv.bz2\n",
    "!bzip2 -f ../data/derived/raw_mutations.csv"
   ]
  }
 ],
 "metadata": {
  "anaconda-cloud": {},
  "kernelspec": {
   "display_name": "Python [py3k]",
   "language": "python",
   "name": "Python [py3k]"
  },
  "language_info": {
   "codemirror_mode": {
    "name": "ipython",
    "version": 3
   },
   "file_extension": ".py",
   "mimetype": "text/x-python",
   "name": "python",
   "nbconvert_exporter": "python",
   "pygments_lexer": "ipython3",
   "version": "3.5.2"
  }
 },
 "nbformat": 4,
 "nbformat_minor": 0
}
